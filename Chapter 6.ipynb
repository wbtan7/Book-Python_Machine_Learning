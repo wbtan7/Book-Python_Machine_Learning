{
 "cells": [
  {
   "cell_type": "code",
   "execution_count": 1,
   "id": "00777043",
   "metadata": {},
   "outputs": [],
   "source": [
    "import pandas as pd"
   ]
  },
  {
   "cell_type": "code",
   "execution_count": 2,
   "id": "a8f9e8ad",
   "metadata": {},
   "outputs": [],
   "source": [
    "df = pd.read_csv('https://archive.ics.uci.edu/ml/machine-learning-databases/breast-cancer-wisconsin/wdbc.data', header=None)"
   ]
  },
  {
   "cell_type": "code",
   "execution_count": 4,
   "id": "35fe87d1",
   "metadata": {},
   "outputs": [],
   "source": [
    "from sklearn.preprocessing import LabelEncoder"
   ]
  },
  {
   "cell_type": "code",
   "execution_count": 5,
   "id": "15c56c38",
   "metadata": {},
   "outputs": [],
   "source": [
    "X = df.loc[:, 2:].values"
   ]
  },
  {
   "cell_type": "code",
   "execution_count": 6,
   "id": "213b070a",
   "metadata": {},
   "outputs": [],
   "source": [
    "y = df.loc[:, 1].values"
   ]
  },
  {
   "cell_type": "code",
   "execution_count": 7,
   "id": "a33024b7",
   "metadata": {},
   "outputs": [],
   "source": [
    "le = LabelEncoder()"
   ]
  },
  {
   "cell_type": "code",
   "execution_count": 8,
   "id": "29fc9725",
   "metadata": {},
   "outputs": [],
   "source": [
    "y = le.fit_transform(y)"
   ]
  },
  {
   "cell_type": "code",
   "execution_count": 12,
   "id": "86761021",
   "metadata": {},
   "outputs": [],
   "source": [
    "from sklearn.model_selection import train_test_split"
   ]
  },
  {
   "cell_type": "code",
   "execution_count": 14,
   "id": "2916eacf",
   "metadata": {},
   "outputs": [],
   "source": [
    "X_train, X_test, y_train, y_test = train_test_split(X, y, test_size=0.20, stratify=y, random_state=1)"
   ]
  },
  {
   "cell_type": "markdown",
   "id": "b80ce812",
   "metadata": {},
   "source": [
    "# Pipeline"
   ]
  },
  {
   "cell_type": "code",
   "execution_count": 15,
   "id": "d3e73db6",
   "metadata": {},
   "outputs": [],
   "source": [
    "from sklearn.preprocessing import StandardScaler\n",
    "from sklearn.decomposition import PCA\n",
    "from sklearn.linear_model import LogisticRegression\n",
    "from sklearn.pipeline import make_pipeline"
   ]
  },
  {
   "cell_type": "code",
   "execution_count": 16,
   "id": "ec48e567",
   "metadata": {},
   "outputs": [],
   "source": [
    "pipe_lr = make_pipeline(StandardScaler(),\n",
    "                       PCA(n_components=2),\n",
    "                       LogisticRegression(random_state=1, solver='lbfgs'))"
   ]
  },
  {
   "cell_type": "code",
   "execution_count": 17,
   "id": "a726d2ba",
   "metadata": {},
   "outputs": [
    {
     "data": {
      "text/plain": [
       "Pipeline(steps=[('standardscaler', StandardScaler()),\n",
       "                ('pca', PCA(n_components=2)),\n",
       "                ('logisticregression', LogisticRegression(random_state=1))])"
      ]
     },
     "execution_count": 17,
     "metadata": {},
     "output_type": "execute_result"
    }
   ],
   "source": [
    "pipe_lr.fit(X_train, y_train)"
   ]
  },
  {
   "cell_type": "code",
   "execution_count": 18,
   "id": "ce48cddd",
   "metadata": {},
   "outputs": [],
   "source": [
    "y_pred = pipe_lr.predict(X_test)"
   ]
  },
  {
   "cell_type": "code",
   "execution_count": 20,
   "id": "5d0c1037",
   "metadata": {},
   "outputs": [
    {
     "name": "stdout",
     "output_type": "stream",
     "text": [
      "Test Accuracy: 0.956\n"
     ]
    }
   ],
   "source": [
    "print('Test Accuracy: %.3f' % pipe_lr.score(X_test, y_test))"
   ]
  },
  {
   "cell_type": "markdown",
   "id": "a0f9d1fd",
   "metadata": {},
   "source": [
    "# K-fold cross validation"
   ]
  },
  {
   "cell_type": "code",
   "execution_count": 25,
   "id": "e630edaf",
   "metadata": {},
   "outputs": [],
   "source": [
    "import numpy as np\n",
    "from sklearn.model_selection import StratifiedKFold"
   ]
  },
  {
   "cell_type": "code",
   "execution_count": 22,
   "id": "2d604429",
   "metadata": {},
   "outputs": [],
   "source": [
    "kfold = StratifiedKFold(n_splits=10).split(X_train, y_train)"
   ]
  },
  {
   "cell_type": "code",
   "execution_count": 26,
   "id": "f4a13b5f",
   "metadata": {},
   "outputs": [
    {
     "name": "stdout",
     "output_type": "stream",
     "text": [
      "Fold  1, Class dist.: [256 153], Acc 0.934783\n",
      "Fold  2, Class dist.: [256 153], Acc 0.956522\n",
      "Fold  3, Class dist.: [256 153], Acc 0.956522\n",
      "Fold  4, Class dist.: [256 153], Acc 0.934783\n",
      "Fold  5, Class dist.: [257 153], Acc 0.955556\n",
      "Fold  6, Class dist.: [257 153], Acc 0.977778\n",
      "Fold  7, Class dist.: [257 153], Acc 0.933333\n",
      "Fold  8, Class dist.: [257 153], Acc 0.955556\n",
      "Fold  9, Class dist.: [257 153], Acc 0.955556\n"
     ]
    }
   ],
   "source": [
    "scores = []\n",
    "for k, (train, test) in enumerate(kfold):\n",
    "    pipe_lr.fit(X_train[train], y_train[train])\n",
    "    score = pipe_lr.score(X_train[test], y_train[test])\n",
    "    scores.append(score)\n",
    "    print('Fold %2d, Class dist.: %s, Acc %3f'%(k+1, np.bincount(y_train[train]), score))"
   ]
  },
  {
   "cell_type": "code",
   "execution_count": 28,
   "id": "49772cd3",
   "metadata": {},
   "outputs": [
    {
     "data": {
      "text/plain": [
       "[0.9347826086956522,\n",
       " 0.9565217391304348,\n",
       " 0.9565217391304348,\n",
       " 0.9347826086956522,\n",
       " 0.9555555555555556,\n",
       " 0.9777777777777777,\n",
       " 0.9333333333333333,\n",
       " 0.9555555555555556,\n",
       " 0.9555555555555556]"
      ]
     },
     "execution_count": 28,
     "metadata": {},
     "output_type": "execute_result"
    }
   ],
   "source": [
    "scores"
   ]
  },
  {
   "cell_type": "code",
   "execution_count": 29,
   "id": "eb354835",
   "metadata": {},
   "outputs": [],
   "source": [
    "from sklearn.model_selection import cross_val_score"
   ]
  },
  {
   "cell_type": "code",
   "execution_count": 30,
   "id": "4331d43b",
   "metadata": {},
   "outputs": [],
   "source": [
    "scores = cross_val_score(estimator=pipe_lr,\n",
    "                        X=X_train,\n",
    "                        y=y_train,\n",
    "                        cv=10,\n",
    "                        n_jobs=1)"
   ]
  },
  {
   "cell_type": "code",
   "execution_count": 31,
   "id": "36c08e6b",
   "metadata": {},
   "outputs": [
    {
     "name": "stdout",
     "output_type": "stream",
     "text": [
      "CV accuracy: 0.950 +/- 0.014\n"
     ]
    }
   ],
   "source": [
    "print('CV accuracy: %.3f +/- %.3f' %(np.mean(scores), np.std(scores)))"
   ]
  },
  {
   "cell_type": "markdown",
   "id": "5f26c035",
   "metadata": {},
   "source": [
    "# Learning Curve"
   ]
  },
  {
   "cell_type": "code",
   "execution_count": 32,
   "id": "74cf9030",
   "metadata": {},
   "outputs": [],
   "source": [
    "import matplotlib.pyplot as plt\n",
    "from sklearn.model_selection import learning_curve"
   ]
  },
  {
   "cell_type": "code",
   "execution_count": 35,
   "id": "799b283a",
   "metadata": {},
   "outputs": [],
   "source": [
    "pipe_lr = make_pipeline(StandardScaler(),\n",
    "                       LogisticRegression(penalty='l2',\n",
    "                                         random_state=1,\n",
    "                                         solver='lbfgs',\n",
    "                                         max_iter=10000))"
   ]
  },
  {
   "cell_type": "code",
   "execution_count": 36,
   "id": "f11243e8",
   "metadata": {},
   "outputs": [],
   "source": [
    "train_sizes, train_scores, test_scores = learning_curve(estimator=pipe_lr,\n",
    "                                                       X=X_train,\n",
    "                                                       y=y_train,\n",
    "                                                       train_sizes=np.linspace(0.1, 1.0, 10),\n",
    "                                                       cv=10,\n",
    "                                                       n_jobs=1\n",
    "                                                       )"
   ]
  },
  {
   "cell_type": "code",
   "execution_count": 37,
   "id": "3b3b5079",
   "metadata": {},
   "outputs": [],
   "source": [
    "train_mean = np.mean(train_scores, axis=1)\n",
    "train_std = np.std(train_scores, axis=1)\n",
    "test_mean = np.mean(test_scores, axis=1)\n",
    "test_std = np.std(train_scores, axis=1)"
   ]
  },
  {
   "cell_type": "code",
   "execution_count": 47,
   "id": "a9d5c3d4",
   "metadata": {},
   "outputs": [
    {
     "data": {
      "image/png": "[encoded data removed]",
      "text/plain": [
       "<Figure size 432x288 with 1 Axes>"
      ]
     },
     "metadata": {
      "needs_background": "light"
     },
     "output_type": "display_data"
    }
   ],
   "source": [
    "plt.plot(train_sizes, train_mean,\n",
    "        color='blue', marker='o',\n",
    "        markersize=5, label='Training Accuracy')\n",
    "\n",
    "plt.fill_between(train_sizes,\n",
    "                train_mean + train_std,\n",
    "                train_mean - train_std,\n",
    "                alpha=0.15, color='blue')\n",
    "\n",
    "plt.plot(train_sizes, test_mean,\n",
    "        color='green', linestyle='--',\n",
    "        marker='s', markersize=5,\n",
    "        label='Validation accuracy')\n",
    "\n",
    "plt.fill_between(train_sizes,\n",
    "                test_mean + test_std,\n",
    "                test_mean - test_std,\n",
    "                alpha=0.5, color='green')\n",
    "\n",
    "plt.grid()\n",
    "plt.xlabel('Number of training examples')\n",
    "plt.ylabel('Accuracy')\n",
    "plt.legend(loc='lower right')\n",
    "plt.ylim([0.8, 1.03])\n",
    "plt.show()"
   ]
  },
  {
   "cell_type": "markdown",
   "id": "eebbfe17",
   "metadata": {},
   "source": [
    "# Addressing over- and underfitting with validation curves"
   ]
  },
  {
   "cell_type": "code",
   "execution_count": 48,
   "id": "6952a6e0",
   "metadata": {},
   "outputs": [],
   "source": [
    "from sklearn.model_selection import validation_curve"
   ]
  },
  {
   "cell_type": "code",
   "execution_count": 49,
   "id": "208370cd",
   "metadata": {},
   "outputs": [],
   "source": [
    "param_range = [0.001, 0.01, 0.1, 1.0, 10.0, 100.0]"
   ]
  },
  {
   "cell_type": "code",
   "execution_count": 50,
   "id": "78776105",
   "metadata": {},
   "outputs": [],
   "source": [
    "train_scores, test_scores = validation_curve(estimator=pipe_lr,\n",
    "                                            X=X_train,\n",
    "                                            y=y_train,\n",
    "                                            param_name='logisticregression__C',\n",
    "                                            param_range=param_range,\n",
    "                                            cv=10)"
   ]
  },
  {
   "cell_type": "code",
   "execution_count": 53,
   "id": "4290efa2",
   "metadata": {},
   "outputs": [],
   "source": [
    "train_mean = np.mean(train_scores, axis=1)\n",
    "train_std = np.std(train_scores, axis=1)\n",
    "test_mean = np.mean(test_scores, axis=1)\n",
    "test_std = np.std(test_scores, axis=1)"
   ]
  },
  {
   "cell_type": "code",
   "execution_count": 54,
   "id": "13c4e65b",
   "metadata": {},
   "outputs": [
    {
     "data": {
      "image/png": "[encoded data removed]",
      "text/plain": [
       "<Figure size 432x288 with 1 Axes>"
      ]
     },
     "metadata": {
      "needs_background": "light"
     },
     "output_type": "display_data"
    }
   ],
   "source": [
    "plt.plot(param_range, train_mean,\n",
    "        color='blue', marker='o',\n",
    "        markersize=5, label='Training Accuracy')\n",
    "\n",
    "plt.fill_between(param_range,\n",
    "                train_mean + train_std,\n",
    "                train_mean - train_std,\n",
    "                alpha=0.15, color='blue')\n",
    "\n",
    "plt.plot(param_range, test_mean,\n",
    "        color='green', linestyle='--',\n",
    "        marker='s', markersize=5,\n",
    "        label='Validation accuracy')\n",
    "\n",
    "plt.fill_between(param_range,\n",
    "                test_mean + test_std,\n",
    "                test_mean - test_std,\n",
    "                alpha=0.5, color='green')\n",
    "\n",
    "plt.grid()\n",
    "plt.xscale('log')\n",
    "plt.xlabel('Parameter C')\n",
    "plt.ylabel('Accuracy')\n",
    "plt.legend(loc='lower right')\n",
    "plt.ylim([0.8, 1.0])\n",
    "plt.show()"
   ]
  },
  {
   "cell_type": "markdown",
   "id": "c1803404",
   "metadata": {},
   "source": [
    "# Grid Search"
   ]
  },
  {
   "cell_type": "code",
   "execution_count": 56,
   "id": "d423f1e6",
   "metadata": {},
   "outputs": [],
   "source": [
    "from sklearn.model_selection import GridSearchCV\n",
    "from sklearn.svm import SVC"
   ]
  },
  {
   "cell_type": "code",
   "execution_count": 57,
   "id": "80b45e97",
   "metadata": {},
   "outputs": [],
   "source": [
    "pipe_svc = make_pipeline(StandardScaler(),\n",
    "                        SVC(random_state=1))"
   ]
  },
  {
   "cell_type": "code",
   "execution_count": 58,
   "id": "d344b74b",
   "metadata": {},
   "outputs": [],
   "source": [
    "param_range = [0.0001, 0.001, 0.01, 0.1,\n",
    "              1.0, 10.0, 100.0, 1000.0]"
   ]
  },
  {
   "cell_type": "code",
   "execution_count": 59,
   "id": "52507d70",
   "metadata": {},
   "outputs": [],
   "source": [
    "param_grid = [{'svc__C': param_range,\n",
    "              'svc__kernel':['linear']},\n",
    "             {'svc__C': param_range,\n",
    "             'svc__gamma': param_range,\n",
    "             'svc__kernel': ['rbf']}]"
   ]
  },
  {
   "cell_type": "code",
   "execution_count": 60,
   "id": "3cfec8cf",
   "metadata": {},
   "outputs": [],
   "source": [
    "gs = GridSearchCV(estimator=pipe_svc,\n",
    "                 param_grid=param_grid,\n",
    "                 scoring='accuracy',\n",
    "                 cv=10,\n",
    "                 refit=True,\n",
    "                 n_jobs=-1)"
   ]
  },
  {
   "cell_type": "code",
   "execution_count": 61,
   "id": "4e4e6d15",
   "metadata": {},
   "outputs": [],
   "source": [
    "gs = gs.fit(X_train, y_train)"
   ]
  },
  {
   "cell_type": "code",
   "execution_count": 62,
   "id": "87369f00",
   "metadata": {},
   "outputs": [
    {
     "name": "stdout",
     "output_type": "stream",
     "text": [
      "0.9846859903381642\n"
     ]
    }
   ],
   "source": [
    "print(gs.best_score_)"
   ]
  },
  {
   "cell_type": "code",
   "execution_count": 63,
   "id": "057ed17c",
   "metadata": {},
   "outputs": [
    {
     "name": "stdout",
     "output_type": "stream",
     "text": [
      "{'svc__C': 100.0, 'svc__gamma': 0.001, 'svc__kernel': 'rbf'}\n"
     ]
    }
   ],
   "source": [
    "print(gs.best_params_)"
   ]
  },
  {
   "cell_type": "code",
   "execution_count": 65,
   "id": "1ae328bf",
   "metadata": {},
   "outputs": [],
   "source": [
    "clf = gs.best_estimator_"
   ]
  },
  {
   "cell_type": "code",
   "execution_count": 66,
   "id": "534cd1fd",
   "metadata": {},
   "outputs": [
    {
     "data": {
      "text/plain": [
       "Pipeline(steps=[('standardscaler', StandardScaler()),\n",
       "                ('svc', SVC(C=100.0, gamma=0.001, random_state=1))])"
      ]
     },
     "execution_count": 66,
     "metadata": {},
     "output_type": "execute_result"
    }
   ],
   "source": [
    "clf.fit(X_train, y_train)"
   ]
  },
  {
   "cell_type": "code",
   "execution_count": 67,
   "id": "25a9ea5e",
   "metadata": {},
   "outputs": [
    {
     "name": "stdout",
     "output_type": "stream",
     "text": [
      "Test accuracy: 0.974\n"
     ]
    }
   ],
   "source": [
    "print('Test accuracy: %.3f' % clf.score(X_test, y_test))"
   ]
  },
  {
   "cell_type": "markdown",
   "id": "1ac39df8",
   "metadata": {},
   "source": [
    "# Nested cross validation"
   ]
  },
  {
   "cell_type": "code",
   "execution_count": 68,
   "id": "c3871974",
   "metadata": {},
   "outputs": [],
   "source": [
    "gs = GridSearchCV(estimator=pipe_svc,\n",
    "                 param_grid=param_grid,\n",
    "                 scoring='accuracy',\n",
    "                 cv=2)"
   ]
  },
  {
   "cell_type": "code",
   "execution_count": 69,
   "id": "37f11bf1",
   "metadata": {},
   "outputs": [],
   "source": [
    "scores = cross_val_score(gs, X_train, y_train, scoring='accuracy', cv=5)"
   ]
  },
  {
   "cell_type": "code",
   "execution_count": 70,
   "id": "68ebe504",
   "metadata": {},
   "outputs": [
    {
     "name": "stdout",
     "output_type": "stream",
     "text": [
      "CV accuracy: 0.974 +/- 0.015\n"
     ]
    }
   ],
   "source": [
    "print('CV accuracy: %.3f +/- %.3f' %(np.mean(scores), np.std(scores)))"
   ]
  },
  {
   "cell_type": "code",
   "execution_count": 71,
   "id": "359c69c1",
   "metadata": {},
   "outputs": [],
   "source": [
    "from sklearn.tree import DecisionTreeClassifier"
   ]
  },
  {
   "cell_type": "code",
   "execution_count": 72,
   "id": "0b1963e7",
   "metadata": {},
   "outputs": [],
   "source": [
    "gs = GridSearchCV(estimator=DecisionTreeClassifier(random_state=0),\n",
    "                 param_grid=[{'max_depth': [1,2,3,4,5,6,7,None]}],\n",
    "                 scoring='accuracy',\n",
    "                 cv=2)"
   ]
  },
  {
   "cell_type": "code",
   "execution_count": 73,
   "id": "c7477e15",
   "metadata": {},
   "outputs": [],
   "source": [
    "scores = cross_val_score(gs, X_train, y_train, scoring='accuracy', cv=5)"
   ]
  },
  {
   "cell_type": "code",
   "execution_count": 74,
   "id": "3d9fa241",
   "metadata": {},
   "outputs": [
    {
     "name": "stdout",
     "output_type": "stream",
     "text": [
      "CV accuracy: 0.934 +/- 0.016\n"
     ]
    }
   ],
   "source": [
    "print('CV accuracy: %.3f +/- %.3f' %(np.mean(scores), np.std(scores)))"
   ]
  },
  {
   "cell_type": "markdown",
   "id": "d8024e9a",
   "metadata": {},
   "source": [
    "# Confusion Matrix"
   ]
  },
  {
   "cell_type": "code",
   "execution_count": 76,
   "id": "cde2b9ba",
   "metadata": {},
   "outputs": [],
   "source": [
    "from sklearn.metrics import confusion_matrix"
   ]
  },
  {
   "cell_type": "code",
   "execution_count": 77,
   "id": "f09fd44b",
   "metadata": {},
   "outputs": [
    {
     "data": {
      "text/plain": [
       "Pipeline(steps=[('standardscaler', StandardScaler()),\n",
       "                ('svc', SVC(random_state=1))])"
      ]
     },
     "execution_count": 77,
     "metadata": {},
     "output_type": "execute_result"
    }
   ],
   "source": [
    "pipe_svc.fit(X_train, y_train)"
   ]
  },
  {
   "cell_type": "code",
   "execution_count": 78,
   "id": "77da1ebe",
   "metadata": {},
   "outputs": [],
   "source": [
    "y_pred = pipe_svc.predict(X_test)"
   ]
  },
  {
   "cell_type": "code",
   "execution_count": 79,
   "id": "c6cff51e",
   "metadata": {},
   "outputs": [],
   "source": [
    "confmat = confusion_matrix(y_true=y_test, y_pred=y_pred)"
   ]
  },
  {
   "cell_type": "code",
   "execution_count": 80,
   "id": "dee5a88d",
   "metadata": {},
   "outputs": [
    {
     "name": "stdout",
     "output_type": "stream",
     "text": [
      "[[71  1]\n",
      " [ 2 40]]\n"
     ]
    }
   ],
   "source": [
    "print(confmat)"
   ]
  },
  {
   "cell_type": "code",
   "execution_count": 81,
   "id": "40bc38b7",
   "metadata": {},
   "outputs": [
    {
     "data": {
      "image/png": "[encoded data removed]",
      "text/plain": [
       "<Figure size 180x180 with 1 Axes>"
      ]
     },
     "metadata": {
      "needs_background": "light"
     },
     "output_type": "display_data"
    }
   ],
   "source": [
    "fig, ax = plt.subplots(figsize=(2.5, 2.5))\n",
    "ax.matshow(confmat, cmap=plt.cm.Blues, alpha=0.3)\n",
    "for i in range(confmat.shape[0]):\n",
    "    for j in range(confmat.shape[1]):\n",
    "        ax.text(x=j, y=i, \n",
    "                s=confmat[i, j], \n",
    "                va='center', ha='center')\n",
    "plt.xlabel('Predicted label')\n",
    "plt.ylabel('True label')\n",
    "plt.show()"
   ]
  },
  {
   "cell_type": "markdown",
   "id": "a2beea30",
   "metadata": {},
   "source": [
    "# Metrics"
   ]
  },
  {
   "cell_type": "code",
   "execution_count": 82,
   "id": "a365d361",
   "metadata": {},
   "outputs": [],
   "source": [
    "from sklearn.metrics import precision_score\n",
    "from sklearn.metrics import recall_score, f1_score"
   ]
  },
  {
   "cell_type": "code",
   "execution_count": 83,
   "id": "911296d0",
   "metadata": {},
   "outputs": [
    {
     "name": "stdout",
     "output_type": "stream",
     "text": [
      "Precision: 0.976\n"
     ]
    }
   ],
   "source": [
    "print('Precision: %.3f' % precision_score(y_true=y_test, y_pred=y_pred))"
   ]
  },
  {
   "cell_type": "code",
   "execution_count": 84,
   "id": "5ca41438",
   "metadata": {},
   "outputs": [
    {
     "name": "stdout",
     "output_type": "stream",
     "text": [
      "Recall: 0.952\n"
     ]
    }
   ],
   "source": [
    "print('Recall: %.3f' % recall_score(y_true=y_test, y_pred=y_pred))"
   ]
  },
  {
   "cell_type": "code",
   "execution_count": 85,
   "id": "814c4730",
   "metadata": {},
   "outputs": [
    {
     "name": "stdout",
     "output_type": "stream",
     "text": [
      "F1: 0.964\n"
     ]
    }
   ],
   "source": [
    "print('F1: %.3f' % f1_score(y_true=y_test, y_pred=y_pred))"
   ]
  },
  {
   "cell_type": "code",
   "execution_count": 86,
   "id": "5ed48683",
   "metadata": {},
   "outputs": [],
   "source": [
    "from sklearn.metrics import make_scorer, f1_score"
   ]
  },
  {
   "cell_type": "code",
   "execution_count": 87,
   "id": "a40dfefd",
   "metadata": {},
   "outputs": [],
   "source": [
    "c_gamma_range = [0.01, 0.1, 1.0, 10.0]"
   ]
  },
  {
   "cell_type": "code",
   "execution_count": 88,
   "id": "95d6b170",
   "metadata": {},
   "outputs": [],
   "source": [
    "param_grid = [{'svc__C': c_gamma_range,\n",
    "              'svc__kernel': ['linear']},\n",
    "             {'svc__C' : c_gamma_range,\n",
    "             'svc__gamma' : c_gamma_range,\n",
    "             'svc__kernel' : ['rbf']}]"
   ]
  },
  {
   "cell_type": "code",
   "execution_count": 89,
   "id": "7fcf877d",
   "metadata": {},
   "outputs": [],
   "source": [
    "scorer = make_scorer(f1_score, pos_label=0)"
   ]
  },
  {
   "cell_type": "code",
   "execution_count": 90,
   "id": "0b643226",
   "metadata": {},
   "outputs": [],
   "source": [
    "gs = GridSearchCV(estimator=pipe_svc,\n",
    "                 param_grid=param_grid,\n",
    "                 scoring=scorer,\n",
    "                 cv=10)"
   ]
  },
  {
   "cell_type": "code",
   "execution_count": 91,
   "id": "44299bb9",
   "metadata": {},
   "outputs": [],
   "source": [
    "gs = gs.fit(X_train, y_train)"
   ]
  },
  {
   "cell_type": "code",
   "execution_count": 93,
   "id": "938e0655",
   "metadata": {},
   "outputs": [
    {
     "name": "stdout",
     "output_type": "stream",
     "text": [
      "0.9861994953378878\n"
     ]
    }
   ],
   "source": [
    "print(gs.best_score_)"
   ]
  },
  {
   "cell_type": "code",
   "execution_count": 94,
   "id": "456d0f88",
   "metadata": {},
   "outputs": [
    {
     "name": "stdout",
     "output_type": "stream",
     "text": [
      "{'svc__C': 10.0, 'svc__gamma': 0.01, 'svc__kernel': 'rbf'}\n"
     ]
    }
   ],
   "source": [
    "print(gs.best_params_)"
   ]
  },
  {
   "cell_type": "markdown",
   "id": "53840b09",
   "metadata": {},
   "source": [
    "# Receiver operating characteristic (ROC) area under the curve"
   ]
  },
  {
   "cell_type": "code",
   "execution_count": 97,
   "id": "62e497be",
   "metadata": {},
   "outputs": [],
   "source": [
    "from sklearn.metrics import roc_curve, auc\n",
    "from scipy import interp"
   ]
  },
  {
   "cell_type": "code",
   "execution_count": 99,
   "id": "88855c0e",
   "metadata": {},
   "outputs": [],
   "source": [
    "pipe_lr = make_pipeline(StandardScaler(),\n",
    "                       PCA(n_components=2),\n",
    "                       LogisticRegression(penalty='l2',\n",
    "                                         random_state=1,\n",
    "                                         solver='lbfgs',\n",
    "                                         C=100.0))"
   ]
  },
  {
   "cell_type": "code",
   "execution_count": 100,
   "id": "1d36c235",
   "metadata": {},
   "outputs": [],
   "source": [
    "X_train2 = X_train[:, [4, 14]]"
   ]
  },
  {
   "cell_type": "code",
   "execution_count": 104,
   "id": "b41850b2",
   "metadata": {},
   "outputs": [],
   "source": [
    "cv = list(StratifiedKFold(n_splits=3, random_state=1, shuffle=True).split(X_train, y_train))"
   ]
  },
  {
   "cell_type": "code",
   "execution_count": 105,
   "id": "a22331c9",
   "metadata": {},
   "outputs": [
    {
     "data": {
      "text/plain": [
       "<Figure size 504x360 with 0 Axes>"
      ]
     },
     "metadata": {},
     "output_type": "display_data"
    }
   ],
   "source": [
    "fig = plt.figure(figsize=(7, 5))"
   ]
  },
  {
   "cell_type": "code",
   "execution_count": 106,
   "id": "55851dd5",
   "metadata": {},
   "outputs": [],
   "source": [
    "mean_tpr = 0.0\n",
    "mean_fpr = np.linspace(0, 1, 100)\n",
    "all_tpr = []"
   ]
  },
  {
   "cell_type": "code",
   "execution_count": 112,
   "id": "b65787d9",
   "metadata": {},
   "outputs": [
    {
     "name": "stderr",
     "output_type": "stream",
     "text": [
      "<ipython-input-112-54e306196ab5>:8: DeprecationWarning: scipy.interp is deprecated and will be removed in SciPy 2.0.0, use numpy.interp instead\n",
      "  mean_tpr += interp(mean_fpr, fpr, tpr)\n",
      "<ipython-input-112-54e306196ab5>:8: DeprecationWarning: scipy.interp is deprecated and will be removed in SciPy 2.0.0, use numpy.interp instead\n",
      "  mean_tpr += interp(mean_fpr, fpr, tpr)\n",
      "<ipython-input-112-54e306196ab5>:8: DeprecationWarning: scipy.interp is deprecated and will be removed in SciPy 2.0.0, use numpy.interp instead\n",
      "  mean_tpr += interp(mean_fpr, fpr, tpr)\n"
     ]
    },
    {
     "data": {
      "image/png": "[encoded data removed]",
      "text/plain": [
       "<Figure size 432x288 with 1 Axes>"
      ]
     },
     "metadata": {
      "needs_background": "light"
     },
     "output_type": "display_data"
    }
   ],
   "source": [
    "for i, (train, test) in enumerate(cv):\n",
    "    probas = pipe_lr.fit(\n",
    "        X_train2[train],\n",
    "        y_train[train]).predict_proba(X_train2[test])\n",
    "    fpr, tpr, thresholds = roc_curve(y_train[test],\n",
    "                                    probas[:, 1],\n",
    "                                    pos_label=1)\n",
    "    mean_tpr += interp(mean_fpr, fpr, tpr)\n",
    "    mean_tpr[0] = 0.0\n",
    "    roc_auc = auc(fpr, tpr)\n",
    "    plt.plot(fpr,\n",
    "            tpr,\n",
    "            label='ROC fold %d (area = %0.2f)' % (i+1, roc_auc))\n",
    "\n",
    "plt.plot([0, 1],\n",
    "        [0, 1],\n",
    "        linestyle='--',\n",
    "        color=(0.6, 0.6, 0.6),\n",
    "        label='Random guessing')\n",
    "\n",
    "mean_tpr /= len(cv)\n",
    "mean_tpr[-1] = 1.0\n",
    "mean_auc = auc(mean_fpr, mean_tpr)\n",
    "plt.plot(mean_fpr, mean_tpr, 'k--', label='Mean ROC (area = %0.2f)' % mean_auc, lw=2)\n",
    "\n",
    "plt.plot([0, 0, 1],\n",
    "        [0, 1, 1],\n",
    "        linestyle=':',\n",
    "        color='black',\n",
    "        label='Perfect performance')\n",
    "\n",
    "plt.xlim([-0.05, 1.05])\n",
    "plt.ylim([-0.05, 1.05])\n",
    "plt.xlabel('False positive rate')\n",
    "plt.ylabel('True positive rate')\n",
    "plt.legend(loc='lower right')\n",
    "plt.show()"
   ]
  },
  {
   "cell_type": "markdown",
   "id": "29122c21",
   "metadata": {},
   "source": [
    "# Micro/Marco for multiclass OvR/OvA"
   ]
  },
  {
   "cell_type": "code",
   "execution_count": 113,
   "id": "c805a135",
   "metadata": {},
   "outputs": [],
   "source": [
    "pre_scorer = make_scorer(score_func=precision_score,\n",
    "                        pos_label=1,\n",
    "                        greater_is_better=True,\n",
    "                        average='micro')"
   ]
  },
  {
   "cell_type": "markdown",
   "id": "611e0526",
   "metadata": {},
   "source": [
    "# Class imbalance"
   ]
  },
  {
   "cell_type": "code",
   "execution_count": 116,
   "id": "3f999ce6",
   "metadata": {},
   "outputs": [],
   "source": [
    "X_imb = np.vstack((X[y == 0], X[y == 1][:40]))\n",
    "y_imb = np.hstack((y[y == 0], y[y == 1][:40]))"
   ]
  },
  {
   "cell_type": "code",
   "execution_count": 117,
   "id": "e5ecdd66",
   "metadata": {},
   "outputs": [
    {
     "data": {
      "text/plain": [
       "89.92443324937027"
      ]
     },
     "execution_count": 117,
     "metadata": {},
     "output_type": "execute_result"
    }
   ],
   "source": [
    "y_pred = np.zeros(y_imb.shape[0])\n",
    "np.mean(y_pred == y_imb) * 100"
   ]
  },
  {
   "cell_type": "code",
   "execution_count": 114,
   "id": "b6437456",
   "metadata": {},
   "outputs": [],
   "source": [
    "from sklearn.utils import resample"
   ]
  },
  {
   "cell_type": "code",
   "execution_count": 118,
   "id": "78d05bd7",
   "metadata": {},
   "outputs": [
    {
     "name": "stdout",
     "output_type": "stream",
     "text": [
      "Number of class 1 examples before: 40\n"
     ]
    }
   ],
   "source": [
    "print('Number of class 1 examples before:', X_imb[y_imb == 1].shape[0])"
   ]
  },
  {
   "cell_type": "code",
   "execution_count": 120,
   "id": "83fa9f46",
   "metadata": {},
   "outputs": [],
   "source": [
    "X_upsampled, y_upsampled = resample(\n",
    "    X_imb[y_imb == 1],\n",
    "    y_imb[y_imb == 1],\n",
    "    replace=True,\n",
    "    n_samples=X_imb[y_imb == 0].shape[0],\n",
    "    random_state=123\n",
    ")"
   ]
  },
  {
   "cell_type": "code",
   "execution_count": 121,
   "id": "706f562d",
   "metadata": {},
   "outputs": [
    {
     "name": "stdout",
     "output_type": "stream",
     "text": [
      "Number of class 1 examples after:  357\n"
     ]
    }
   ],
   "source": [
    "print('Number of class 1 examples after: ', X_upsampled.shape[0])"
   ]
  },
  {
   "cell_type": "code",
   "execution_count": 124,
   "id": "ccd8fa9e",
   "metadata": {},
   "outputs": [],
   "source": [
    "X_bal = np.vstack((X[y == 0], X_upsampled))\n",
    "y_bal = np.hstack((y[y == 0], y_upsampled))"
   ]
  },
  {
   "cell_type": "code",
   "execution_count": 125,
   "id": "b1c36662",
   "metadata": {},
   "outputs": [
    {
     "data": {
      "text/plain": [
       "50.0"
      ]
     },
     "execution_count": 125,
     "metadata": {},
     "output_type": "execute_result"
    }
   ],
   "source": [
    "y_pred = np.zeros(y_bal.shape[0])\n",
    "np.mean(y_pred == y_bal) * 100"
   ]
  },
  {
   "cell_type": "code",
   "execution_count": null,
   "id": "0e1ca377",
   "metadata": {},
   "outputs": [],
   "source": []
  }
 ],
 "metadata": {
  "kernelspec": {
   "display_name": "Python 3",
   "language": "python",
   "name": "python3"
  },
  "language_info": {
   "codemirror_mode": {
    "name": "ipython",
    "version": 3
   },
   "file_extension": ".py",
   "mimetype": "text/x-python",
   "name": "python",
   "nbconvert_exporter": "python",
   "pygments_lexer": "ipython3",
   "version": "3.8.8"
  }
 },
 "nbformat": 4,
 "nbformat_minor": 5
}
